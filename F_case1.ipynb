{
  "nbformat": 4,
  "nbformat_minor": 0,
  "metadata": {
    "kernelspec": {
      "display_name": "Python 3",
      "language": "python",
      "name": "python3"
    },
    "language_info": {
      "codemirror_mode": {
        "name": "ipython",
        "version": 3
      },
      "file_extension": ".py",
      "mimetype": "text/x-python",
      "name": "python",
      "nbconvert_exporter": "python",
      "pygments_lexer": "ipython3",
      "version": "3.7.3"
    },
    "colab": {
      "name": "F_case1",
      "provenance": [],
      "collapsed_sections": [],
      "include_colab_link": true
    }
  },
  "cells": [
    {
      "cell_type": "markdown",
      "metadata": {
        "id": "view-in-github",
        "colab_type": "text"
      },
      "source": [
        "<a href=\"https://colab.research.google.com/github/badri449/BTechProject/blob/master/F_case1.ipynb\" target=\"_parent\"><img src=\"https://colab.research.google.com/assets/colab-badge.svg\" alt=\"Open In Colab\"/></a>"
      ]
    },
    {
      "cell_type": "code",
      "metadata": {
        "id": "0gHdS1ZzYsLS",
        "colab_type": "code",
        "outputId": "b1dcca94-b678-40d3-ba30-b7df5230822d",
        "colab": {
          "base_uri": "https://localhost:8080/",
          "height": 88
        }
      },
      "source": [
        "%tensorflow_version 1.x \n",
        "import tensorflow as tf\n",
        "import numpy as np\n",
        "import math\n",
        "from sklearn.datasets import make_blobs\n",
        "# from training_data import *\n",
        "import seaborn as sb\n",
        "import matplotlib.pyplot as plt\n",
        "from sklearn.cluster import KMeans\n",
        "from sklearn import cluster, datasets, mixture\n",
        "from sklearn.model_selection import train_test_split\n",
        "from sklearn.ensemble import RandomForestRegressor\n",
        "from sklearn.metrics import mean_absolute_error \n",
        "from sklearn.linear_model import LinearRegression\n",
        "import pandas as pd\n",
        "from sklearn.datasets import make_regression\n",
        "from sklearn.preprocessing import Normalizer\n",
        "from numpy import linalg as LA\n"
      ],
      "execution_count": 0,
      "outputs": [
        {
          "output_type": "stream",
          "text": [
            "TensorFlow 1.x selected.\n"
          ],
          "name": "stdout"
        },
        {
          "output_type": "stream",
          "text": [
            "/usr/local/lib/python3.6/dist-packages/statsmodels/tools/_testing.py:19: FutureWarning: pandas.util.testing is deprecated. Use the functions in the public API at pandas.testing instead.\n",
            "  import pandas.util.testing as tm\n"
          ],
          "name": "stderr"
        }
      ]
    },
    {
      "cell_type": "code",
      "metadata": {
        "id": "TUVzvGtHYsLZ",
        "colab_type": "code",
        "colab": {}
      },
      "source": [
        "sb.set()\n",
        "tf.reset_default_graph()\n",
        "\n",
        "\n",
        "def sample_Z(m, n):\n",
        "    return np.random.uniform(-1., 1., size=[m, n])\n",
        "\n",
        "\n",
        "def generator(X,Z,hsize=[16, 16],reuse=False):\n",
        "    with tf.variable_scope(\"GAN/Generator\",reuse=reuse):\n",
        "        \n",
        "        h_11 = tf.layers.dense(X,16)\n",
        "        h_12 = tf.layers.dense(h_11,16)\n",
        "        h_13 = tf.layers.dense(h_12,20)\n",
        "\n",
        "        h_21 = tf.layers.dense(Z,16)\n",
        "        h_22 = tf.layers.dense(h_21,16)\n",
        "        h_23 = tf.layers.dense(h_22,16)\n",
        "        \n",
        "        Z = tf.concat([h_11,h_23],1)\n",
        "        h1 = tf.layers.dense(Z,hsize[0],activation=tf.nn.leaky_relu)\n",
        "        h2 = tf.layers.dense(h1,hsize[1],activation=tf.nn.leaky_relu)\n",
        "        h3 = tf.layers.dense(h2,16)\n",
        "        out = tf.layers.dense(h3,100)\n",
        "        # print(\"hello\",out.shape)\n",
        "    return (out,h_13)\n",
        "\n",
        "def discriminator(X,Y,hsize=[16, 16],reuse=False):\n",
        "    with tf.variable_scope(\"GAN/Discriminator\",reuse=reuse):\n",
        "        h_11 = tf.layers.dense(X,16)\n",
        "        h_12 = tf.layers.dense(h_11,16)\n",
        "        h_13 = tf.layers.dense(h_12,16)\n",
        "\n",
        "        h_21 = tf.layers.dense(Y,16)\n",
        "        h_22 = tf.layers.dense(h_21,16)\n",
        "        h_23 = tf.layers.dense(h_22,16)\n",
        "\n",
        "        X = tf.concat([h_13,h_23],1)\n",
        "        h1 = tf.layers.dense(X,hsize[0],activation=tf.nn.leaky_relu)\n",
        "        h2 = tf.layers.dense(h1,hsize[1],activation=tf.nn.leaky_relu)\n",
        "        h3 = tf.layers.dense(h2,16,activation=tf.nn.leaky_relu)\n",
        "        h4 = tf.layers.dense(h3,2)\n",
        "        out = tf.layers.dense(h4,1)\n",
        "\n",
        "    return out, h4\n",
        "\n",
        "def encoder(X,Z,input_dim,hsize=[16, 16], reuse=False):\n",
        "    with tf.variable_scope(\"GAN/encoder\",reuse=reuse):\n",
        "        X = tf.concat([X,Z],1)\n",
        "        h1 = tf.layers.dense(X,hsize[0],activation=tf.nn.leaky_relu)\n",
        "        h2 = tf.layers.dense(h1,hsize[1],activation=tf.nn.leaky_relu)\n",
        "        h3 = tf.layers.dense(h2,16)\n",
        "        out = tf.layers.dense(h3,input_dim)\n",
        "    return out\n",
        "\n"
      ],
      "execution_count": 0,
      "outputs": []
    },
    {
      "cell_type": "code",
      "metadata": {
        "colab_type": "code",
        "id": "twe9ExnVpaWC",
        "outputId": "e0bd43c1-a438-4a06-f843-1fdfabc09aee",
        "colab": {
          "base_uri": "https://localhost:8080/",
          "height": 241
        }
      },
      "source": [
        "batch_size = 512\n",
        "nd_steps = 10\n",
        "ng_steps = 10\n",
        "x_dim = 10\n",
        "z_dim = 6\n",
        "X = tf.placeholder(tf.float64,[batch_size,x_dim],name='X')\n",
        "Y = tf.placeholder(tf.float64,[batch_size,1],name='Y')\n",
        "Z = tf.placeholder(tf.float64,[batch_size,z_dim],name='Z')\n",
        "\n",
        "\n",
        "beta_dis = tf.placeholder(tf.float64,[1,1])\n",
        "beta_gen = 0.8\n",
        "beta_hot = 10\n",
        "\n",
        "\n",
        "input_dim = 1\n",
        "\n",
        "(G_sample_temp,X_GAN) = generator(X,Z)\n",
        "G_sample = tf.reshape(tf.reduce_mean(G_sample_temp,axis=1),[batch_size,1])\n",
        "r_logits, r_rep = discriminator(X,Y)\n",
        "f_logits, g_rep = discriminator(X,G_sample,reuse=True)\n",
        "\n",
        "X_gen = encoder(G_sample_temp,sample_Z(batch_size,25),input_dim,reuse=False)\n",
        "# X_gen = Z_enc[:,0:1]\n",
        "# Z_gen = Z_enc[:,1:]\n",
        "\n",
        "disc_loss_r = tf.reduce_mean(tf.nn.sigmoid_cross_entropy_with_logits(logits=r_logits,labels=tf.ones_like(r_logits)))\n",
        "disc_loss_f = beta_dis[0][0]*tf.reduce_mean(tf.nn.sigmoid_cross_entropy_with_logits(logits=f_logits,labels=tf.zeros_like(f_logits)))\n",
        "gen_loss = tf.reduce_mean(tf.nn.sigmoid_cross_entropy_with_logits(logits=f_logits,labels=tf.ones_like(f_logits)))\n",
        "          # tf.reduce_mean(tf.nn.sigmoid_cross_entropy_with_logits(logits=f_logits,labels=tf.zeros_like(f_logits)))\n",
        "# gen_loss = 2.5*tf.reduce_mean(tf.nn.sigmoid_cross_entropy_with_logits(logits=f_logits,labels=tf.ones_like(f_logits)))+\\\n",
        "            # beta_gen *tf.reduce_mean(tf.square(X_gen - X))\n",
        "            # beta_hot*tf.reduce_mean(tf.square(Z_gen - Z))\n",
        "\n",
        "\n",
        "gen_vars = tf.get_collection(tf.GraphKeys.GLOBAL_VARIABLES,scope=\"GAN/Generator\")\n",
        "disc_vars = tf.get_collection(tf.GraphKeys.GLOBAL_VARIABLES,scope=\"GAN/Discriminator\")\n",
        "\n",
        "gen_step = tf.train.RMSPropOptimizer(learning_rate=0.001).minimize(gen_loss,var_list = gen_vars) # G Train step\n",
        "disc_step = tf.train.RMSPropOptimizer(learning_rate=0.001).minimize((disc_loss_r+disc_loss_f),var_list = disc_vars) # D Train step"
      ],
      "execution_count": 0,
      "outputs": [
        {
          "output_type": "stream",
          "text": [
            "WARNING:tensorflow:From <ipython-input-2-2f207366f88e>:12: dense (from tensorflow.python.layers.core) is deprecated and will be removed in a future version.\n",
            "Instructions for updating:\n",
            "Use keras.layers.Dense instead.\n",
            "WARNING:tensorflow:From /tensorflow-1.15.2/python3.6/tensorflow_core/python/layers/core.py:187: Layer.apply (from tensorflow.python.keras.engine.base_layer) is deprecated and will be removed in a future version.\n",
            "Instructions for updating:\n",
            "Please use `layer.__call__` method instead.\n",
            "WARNING:tensorflow:From /tensorflow-1.15.2/python3.6/tensorflow_core/python/ops/nn_impl.py:183: where (from tensorflow.python.ops.array_ops) is deprecated and will be removed in a future version.\n",
            "Instructions for updating:\n",
            "Use tf.where in 2.0, which has the same broadcast rule as np.where\n",
            "WARNING:tensorflow:From /tensorflow-1.15.2/python3.6/tensorflow_core/python/training/rmsprop.py:119: calling Ones.__init__ (from tensorflow.python.ops.init_ops) with dtype is deprecated and will be removed in a future version.\n",
            "Instructions for updating:\n",
            "Call initializer instance with the dtype argument instead of passing it to the constructor\n"
          ],
          "name": "stdout"
        }
      ]
    },
    {
      "cell_type": "code",
      "metadata": {
        "id": "sv3eGAql7vbR",
        "colab_type": "code",
        "outputId": "30b5dcad-bc49-43db-9709-fcb84cd81772",
        "colab": {
          "base_uri": "https://localhost:8080/",
          "height": 221
        }
      },
      "source": [
        "class_1=[]   #LinearRegression X Y\n",
        "class_2=[]   #LinearRegression X_Noise Y_Noise\n",
        "class_3=[]   #GAN X Y\n",
        "class_4=[]   #GAN X_Noise Y_Noise\n",
        "class_4_q=[]\n",
        "class_4_r=[]\n",
        "Iteration = []\n",
        "N_range=[]\n",
        "test_size = 0.33\n",
        "for N in [100,500,1000,1500,2000,3000]:\n",
        "  N_range.append(N)\n",
        "  D = 10\n",
        "  data1 = make_regression(n_samples=N, n_features=D, n_informative=2, n_targets=1, \n",
        "                      bias=0.0, effective_rank=None,tail_strength=0.5, \n",
        "                      noise=0.0, shuffle=True, coef=False, random_state=None)\n",
        "  (x,y)=data1\n",
        "  y = y.reshape(N,1)\n",
        "\n",
        "  transformer = Normalizer().fit(x)   #Normalization of X\n",
        "  x = transformer.transform(x)\n",
        "  x_train, x_test, y_train, y_test = train_test_split( x, y, test_size=test_size, random_state=42)\n",
        "\n",
        "  # Calculating Y_Max and Y_min such that 90% data comes between Y_Max and Y_min\n",
        "  ts=y_train.copy()\n",
        "  ts.sort(axis=0)\n",
        "  y_min = ts[int(N*test_size*0.05)]\n",
        "  y_max = ts[int(N*test_size*0.95)]\n",
        "  for x in range(y_train.shape[0]):\n",
        "    if y_train[x]<y_min:y_train[x]=y_min\n",
        "    elif y_train[x]>y_max:y_train[x]=y_max\n",
        "\n",
        "  #Adding Laplacian Noise to training data\n",
        "  # b=(N*D)/2\n",
        "  loc, scale = 0., (x_train.shape[0]*D)/20\n",
        "  noise = np.random.laplace(loc, scale, x_train.shape[0]*D).reshape(x_train.shape[0],D)\n",
        "  xn_train = x_train + noise\n",
        "  \n",
        "  xn_test = x_test.copy()\n",
        "\n",
        "  #Adding Laplacian Noise to training data for Y\n",
        "  # b=(N*(Y_Max - Y_min)\n",
        "  loc, scale = 0., (y_train.shape[0]*(y_max-y_min))\n",
        "  noise = np.random.laplace(loc, scale, y_train.shape[0]*1).reshape(y_train.shape[0],1)\n",
        "  # loc, scale = 0., (x_train.shape[0]*D)/2\n",
        "  # noise = np.random.laplace(loc, scale, y_train.shape[0]*1).reshape(y_train.shape[0],1)\n",
        "  yn_train = y_train + noise\n",
        "\n",
        "  yn_test = y_test.copy()\n",
        "\n",
        "  # Linear regression for class_1 i.e without error\n",
        "  X_train = x_train\n",
        "  Y_train = y_train\n",
        "  X_test = x_test\n",
        "  Y_test = y_test\n",
        "  regression_model = LinearRegression()\n",
        "  regression_model.fit(X_train,Y_train)\n",
        "  y_predicted = regression_model.predict(X_test)\n",
        "  MAE = mean_absolute_error(Y_test , y_predicted)\n",
        "  class_1.append(MAE)\n",
        "\n",
        "  # Linear regression for class_2 with error\n",
        "  X_train = xn_train\n",
        "  Y_train = yn_train\n",
        "  X_test = xn_test\n",
        "  Y_test = yn_test\n",
        "  regression_model = LinearRegression()\n",
        "  regression_model.fit(X_train,Y_train)\n",
        "  y_predicted = regression_model.predict(X_test)\n",
        "  MAE = mean_absolute_error(Y_test , y_predicted)\n",
        "  class_2.append(MAE)\n",
        "\n",
        "  for class_v in [4]:\n",
        "    if class_v==3:        # GAN for data without noise\n",
        "      X_train = x_train\n",
        "      Y_train = y_train\n",
        "      X_test = x_test\n",
        "      Y_test = y_test\n",
        "    else:                 # GAN for data with noise\n",
        "      X_train = xn_train\n",
        "      Y_train = yn_train\n",
        "      X_test = xn_test\n",
        "      Y_test = yn_test\n",
        "    sess = tf.Session()\n",
        "    tf.global_variables_initializer().run(session=sess)\n",
        "    itr = 0\n",
        "    min_val = math.inf\n",
        "    for i in range(10001):\n",
        "      # Training the discriminator and generator from train data of batch size choosen randomly from train data\n",
        "      index = np.random.randint(X_train.shape[0])\n",
        "      X_batch = X_train[index]\n",
        "      l=[Y_train[index]]\n",
        "      # After 200 iterations update the parameters for discriminator loss function\n",
        "      if(i>=200):var=np.array([1.5]).reshape(1,1)\n",
        "      else:var=np.array([1]).reshape(1,1)\n",
        "      for _ in range(batch_size-1):\n",
        "        index = np.random.randint(X_train.shape[0])\n",
        "        X_batch = np.concatenate((X_batch,X_train[index]))\n",
        "        l.append(Y_train[index])\n",
        "      noise = sample_Z(batch_size,1)\n",
        "      Y_batch=np.array(l).reshape(batch_size,1) \n",
        "      X_batch = X_batch.reshape(batch_size,x_dim)\n",
        "      Z_batch = sample_Z(batch_size, z_dim)\n",
        "      for _ in range(nd_steps):\n",
        "          _, r_dloss,f_dloss = sess.run([disc_step, disc_loss_r,disc_loss_f], feed_dict={X: X_batch,Z: Z_batch,Y:Y_batch, beta_dis : var})\n",
        "      rrep_dstep, grep_dstep = sess.run([r_rep, g_rep], feed_dict={X: X_batch, Z: Z_batch,Y:Y_batch})\n",
        "\n",
        "      for _ in range(ng_steps):\n",
        "          _, gloss = sess.run([gen_step, gen_loss], feed_dict={X: X_batch, Z: Z_batch})\n",
        "\n",
        "      rrep_gstep, grep_gstep = sess.run([r_rep, g_rep], feed_dict={X: X_batch, Z: Z_batch,Y:Y_batch})\n",
        "\n",
        "      # Run Generator for the test data of batch size which are chosen randomly from test data\n",
        "      index = np.random.randint(X_test.shape[0])\n",
        "      X_Tbatch = X_test[index]\n",
        "      l=[Y_test[index]]\n",
        "      for _ in range(batch_size-1):\n",
        "        index = np.random.randint(X_test.shape[0])\n",
        "        X_Tbatch = np.concatenate((X_Tbatch,X_test[index]))\n",
        "        l.append(Y_test[index])\n",
        "    \n",
        "      Y_Tbatch=np.array(l).reshape(batch_size,1)\n",
        "      X_Tbatch = X_Tbatch.reshape(batch_size,x_dim)\n",
        "      (g_plot,X_Modi) = sess.run([G_sample,X_GAN], feed_dict={X: X_Tbatch,Z: Z_batch})\n",
        "      MAE = mean_absolute_error(Y_Tbatch , g_plot)\n",
        "      #Update min MAE value and save the iteration at which it occurs  \n",
        "      if(min_val>=MAE and i>500):\n",
        "        min_val = MAE\n",
        "        itr = i\n",
        "\n",
        "        index = np.random.randint(X_train.shape[0])\n",
        "        X_Tbatch = X_train[index]\n",
        "        X_Original = x_train[index]\n",
        "        l_Original = [y_train[index]]\n",
        "        l=[Y_train[index]]\n",
        "        for _ in range(batch_size-1):\n",
        "          index = np.random.randint(X_train.shape[0])\n",
        "          X_Tbatch = np.concatenate((X_Tbatch,X_train[index]))\n",
        "          X_Original = np.concatenate((X_Original,x_train[index]))\n",
        "          l_Original.append(y_train[index])\n",
        "          l.append(Y_train[index])\n",
        "\n",
        "        Y_Tbatch=np.array(l).reshape(batch_size,1)\n",
        "        Y_Original=np.array(l_Original).reshape(batch_size,1)\n",
        "        X_Original = X_Original.reshape(batch_size,x_dim)\n",
        "        X_Tbatch = X_Tbatch.reshape(batch_size,x_dim)\n",
        "        (g_plot,X_Modi) = sess.run([G_sample,X_GAN], feed_dict={X: X_Tbatch,Z: Z_batch})\n",
        "    \n",
        "        class4_X_O=X_Original\n",
        "        class4_Y_O=Y_Original\n",
        "        class4_X_N=X_Tbatch\n",
        "        class4_Y_N=Y_Tbatch\n",
        "        class4_X_GAN = X_Modi\n",
        "        class4_Y_GAN = g_plot\n",
        "    if class_v  == 3:\n",
        "      class_3.append(min_val)\n",
        "      print(\"done3\")\n",
        "    else:\n",
        "      class_4.append(min_val)\n",
        "      # class_6.append(min_val_o)\n",
        "      Q = (LA.norm(x_train) - LA.norm(xn_train))**2\n",
        "      R = (LA.norm(y_train) - LA.norm(yn_train))**2\n",
        "      class_4_q.append(Q)\n",
        "      class_4_r.append(R)\n",
        "      Iteration.append((itr,N))\n",
        "      print(\"done4\")\n",
        "    sess.close()\n",
        "  print(\"Done for N = \",N)\n",
        "\n"
      ],
      "execution_count": 0,
      "outputs": [
        {
          "output_type": "stream",
          "text": [
            "done4\n",
            "Done for N =  100\n",
            "done4\n",
            "Done for N =  500\n",
            "done4\n",
            "Done for N =  1000\n",
            "done4\n",
            "Done for N =  1500\n",
            "done4\n",
            "Done for N =  2000\n",
            "done4\n",
            "Done for N =  3000\n"
          ],
          "name": "stdout"
        }
      ]
    },
    {
      "cell_type": "code",
      "metadata": {
        "id": "uVJbvwfIMsHO",
        "colab_type": "code",
        "outputId": "e5734e3b-a696-4f97-868b-bfb58c83bdac",
        "colab": {
          "base_uri": "https://localhost:8080/",
          "height": 51
        }
      },
      "source": [
        "print(class_2)  # MAE of LR for X_noise and  Y_noise\n",
        "print(class_4)  # MAE of GAN for X_noise and  Y_noise"
      ],
      "execution_count": 0,
      "outputs": [
        {
          "output_type": "stream",
          "text": [
            "[1590.040203885352, 5668.851593736856, 11745.85794780278, 10805.910974387432, 4774.135544592814, 7686.305168902233]\n",
            "[901.7493403436231, 24414.36399142567, 279.22276068858474, 676.8647820729202, 415.24213255728046, 230.7858765116489]\n"
          ],
          "name": "stdout"
        }
      ]
    },
    {
      "cell_type": "code",
      "metadata": {
        "id": "WLtxMpmKBOJd",
        "colab_type": "code",
        "outputId": "2ee86ef5-29eb-4032-c03f-bdd9a2204366",
        "colab": {
          "base_uri": "https://localhost:8080/",
          "height": 301
        }
      },
      "source": [
        "plt.figure()\n",
        "plt.scatter(N_range,class_1,color = 'black',label=\"LR X Y\")\n",
        "plt.scatter(N_range,class_2,color = 'blue',label=\"LR XN YN\")\n",
        "# plt.scatter(N_range,class_3,color = 'orange',label=\"GAN X Y\")\n",
        "plt.scatter(N_range,class_4,color = 'green',label=\"GAN XN YN\")\n",
        "# plt.scatter(N_range,class_5,color = 'orange',label=\"LR XN YN O\")\n",
        "# plt.scatter(N_range,class_6,color = 'Red',label=\"GAN XN YN O\")\n",
        "\n",
        "plt.title(\"MAE For D=20 for different classes \")\n",
        "plt.xlabel(\"N\")\n",
        "plt.ylabel(\"MAE\")\n",
        "plt.legend()\n",
        "# plt.scatter(X_batch,g_batch,color='blue')\n",
        "plt.show()\n",
        "plt.close()"
      ],
      "execution_count": 0,
      "outputs": [
        {
          "output_type": "display_data",
          "data": {
            "image/png": "[encoded data removed]",
            "text/plain": [
              "<Figure size 432x288 with 1 Axes>"
            ]
          },
          "metadata": {
            "tags": []
          }
        }
      ]
    },
    {
      "cell_type": "code",
      "metadata": {
        "id": "uQidt_m6z8Od",
        "colab_type": "code",
        "outputId": "1de5fbee-30bd-45a5-c584-10bd2c3923ee",
        "colab": {
          "base_uri": "https://localhost:8080/",
          "height": 301
        }
      },
      "source": [
        "plt.figure()\n",
        "plt.scatter(N_range,class_4_q,color = 'orange',label=\"Q\")\n",
        "plt.scatter(N_range,class_4_r,color = 'green',label=\"R\")\n",
        "plt.title(\"Results of Q,R for D=20\")\n",
        "plt.xlabel(\"N\")\n",
        "plt.legend()\n",
        "# plt.scatter(X_batch,g_batch,color='blue')\n",
        "plt.show()\n",
        "plt.close()"
      ],
      "execution_count": 0,
      "outputs": [
        {
          "output_type": "display_data",
          "data": {
            "image/png": "[encoded data removed]",
            "text/plain": [
              "<Figure size 432x288 with 1 Axes>"
            ]
          },
          "metadata": {
            "tags": []
          }
        }
      ]
    },
    {
      "cell_type": "code",
      "metadata": {
        "id": "-cIVYhl8LbZO",
        "colab_type": "code",
        "outputId": "a6f7cc83-9908-4701-cf98-548a7b08c48f",
        "colab": {
          "base_uri": "https://localhost:8080/",
          "height": 51
        }
      },
      "source": [
        "print(class_4_q)\n",
        "print(class_4_r)"
      ],
      "execution_count": 0,
      "outputs": [
        {
          "output_type": "stream",
          "text": [
            "[1595252.5595068366, 197276689.05203027, 1473115441.5694752, 4937544998.459577, 12258869811.718904, 40260460886.063545]\n",
            "[15119067832.095129, 2433881871311.966, 16090162148452.88, 77817726135430.25, 154025905148999.47, 181811849694274.6]\n"
          ],
          "name": "stdout"
        }
      ]
    },
    {
      "cell_type": "code",
      "metadata": {
        "id": "0HhWCUABRSR1",
        "colab_type": "code",
        "outputId": "1e6435d1-01ae-4a7b-91f4-b45675a68f3e",
        "colab": {
          "base_uri": "https://localhost:8080/",
          "height": 34
        }
      },
      "source": [
        "print(itr,class_v,X_test.shape,Y_test.shape,y_train.shape,yn_train.shape,x_train.shape,xn_train.shape,y.shape)"
      ],
      "execution_count": 0,
      "outputs": [
        {
          "output_type": "stream",
          "text": [
            "6314 4 (990, 10) (990, 1) (2010, 1) (2010, 1) (2010, 10) (2010, 10) (3000, 1)\n"
          ],
          "name": "stdout"
        }
      ]
    },
    {
      "cell_type": "code",
      "metadata": {
        "id": "Haw6UZvwqzZ1",
        "colab_type": "code",
        "outputId": "99e82c94-4c66-4245-fa2b-39f4ed3a5165",
        "colab": {
          "base_uri": "https://localhost:8080/",
          "height": 34
        }
      },
      "source": [
        "print(Iteration)  # Iterations at which MAE of GAN for X_noise and Y_noise is minimum\n",
        "# Format (Iteration,N)"
      ],
      "execution_count": 0,
      "outputs": [
        {
          "output_type": "stream",
          "text": [
            "[(884, 100), (3218, 500), (3347, 1000), (9733, 1500), (9993, 2000), (6314, 3000)]\n"
          ],
          "name": "stdout"
        }
      ]
    },
    {
      "cell_type": "code",
      "metadata": {
        "id": "4MBx2S4-ZGSS",
        "colab_type": "code",
        "outputId": "16ee3436-22c8-4c88-8cfe-07c1b82c7db5",
        "colab": {
          "base_uri": "https://localhost:8080/",
          "height": 34
        }
      },
      "source": [
        "print(class_4)\n",
        "# print(class_6)\n",
        "# class4_X_O=X_Original\n",
        "#         class4_Y_O=Y_Original\n",
        "#         class4_X_N=X_Tbatch\n",
        "#         class4_Y_N=Y_Tbatch\n",
        "#         class4_X_GAN = X_Modi\n",
        "#         class4_Y_GAN = g_plot\n",
        "# print(class4_X_O,class4_Y_O,class4_Y_N,class4_X_GAN,class4_Y_GAN)"
      ],
      "execution_count": 0,
      "outputs": [
        {
          "output_type": "stream",
          "text": [
            "[901.7493403436231, 24414.36399142567, 279.22276068858474, 676.8647820729202, 415.24213255728046, 230.7858765116489]\n"
          ],
          "name": "stdout"
        }
      ]
    },
    {
      "cell_type": "code",
      "metadata": {
        "id": "MOCqyxtbZRo3",
        "colab_type": "code",
        "outputId": "967ced22-b256-45b0-8052-36049663b4ca",
        "colab": {
          "base_uri": "https://localhost:8080/",
          "height": 394
        }
      },
      "source": [
        "# class4_X_O=X_Original\n",
        "# class4_Y_O=Y_Original\n",
        "# class4_X=X_Tbatch\n",
        "# class4_Y=Y_Tbatch\n",
        "# class4_X_GAN = X_Modi\n",
        "# class4_Y_GAN = g_plot\n",
        "# print(class4_Y_GAN-class4_Y)\n",
        "# Linear regression for class_1 i.e without error\n",
        "# X_train = x_train\n",
        "# Y_train = y_train\n",
        "# X_test = x_test\n",
        "# Y_test = y_test\n",
        "# regression_model = LinearRegression()\n",
        "# regression_model.fit(X_train,Y_train)\n",
        "# y_predicted = regression_model.predict(X_test)\n",
        "# MAE = mean_absolute_error(Y_test , y_predicted)\n",
        "# class_1.append(MAE)\n",
        "regression_model = LinearRegression()\n",
        "regression_model.fit(x_train,y_train)\n",
        "yG_predicted = regression_model.predict(class4_X_GAN)\n",
        "yO_predicted = regression_model.predict(class4_X_O)\n",
        "yN_predicted = regression_model.predict(class4_X_N)\n",
        "MAE = mean_absolute_error(class4_Y_GAN , yG_predicted)\n",
        "print(MAE)\n",
        "MAE = mean_absolute_error(class4_Y_O , yO_predicted)\n",
        "print(MAE)\n",
        "MAE = mean_absolute_error(class4_Y_N , yN_predicted)\n",
        "print(MAE)\n",
        "\n",
        "MAE = mean_absolute_error(class4_Y_O , yG_predicted)\n",
        "print(MAE)\n",
        "MAE = mean_absolute_error(class4_Y_O , yO_predicted)\n",
        "print(MAE)\n",
        "MAE = mean_absolute_error(class4_Y_O , yN_predicted)\n",
        "print(MAE)\n",
        "\n",
        "regression_model = LinearRegression()\n",
        "regression_model.fit(xn_train,yn_train)\n",
        "yG_predicted = regression_model.predict(class4_X_GAN)\n",
        "yO_predicted = regression_model.predict(class4_X_O)\n",
        "yN_predicted = regression_model.predict(class4_X_N)\n",
        "MAE = mean_absolute_error(class4_Y_GAN , yG_predicted)\n",
        "print(MAE)\n",
        "MAE = mean_absolute_error(class4_Y_O , yO_predicted)\n",
        "print(MAE)\n",
        "MAE = mean_absolute_error(class4_Y_N , yN_predicted)\n",
        "print(MAE)\n",
        "\n",
        "MAE = mean_absolute_error(class4_Y_O , yG_predicted)\n",
        "print(MAE)\n",
        "MAE = mean_absolute_error(class4_Y_O , yO_predicted)\n",
        "print(MAE)\n",
        "MAE = mean_absolute_error(class4_Y_O , yN_predicted)\n",
        "print(MAE)\n",
        "\n",
        "MAE = mean_absolute_error(class4_X_GAN , class4_X_N)\n",
        "print(MAE)\n",
        "\n",
        "MAE = mean_absolute_error(class4_X_GAN , class4_X_O)\n",
        "print(MAE)\n"
      ],
      "execution_count": 0,
      "outputs": [
        {
          "output_type": "error",
          "ename": "ValueError",
          "evalue": "ignored",
          "traceback": [
            "\u001b[0;31m---------------------------------------------------------------------------\u001b[0m",
            "\u001b[0;31mValueError\u001b[0m                                Traceback (most recent call last)",
            "\u001b[0;32m<ipython-input-12-f960b2553ff8>\u001b[0m in \u001b[0;36m<module>\u001b[0;34m()\u001b[0m\n\u001b[1;32m      1\u001b[0m \u001b[0mregression_model\u001b[0m \u001b[0;34m=\u001b[0m \u001b[0mLinearRegression\u001b[0m\u001b[0;34m(\u001b[0m\u001b[0;34m)\u001b[0m\u001b[0;34m\u001b[0m\u001b[0;34m\u001b[0m\u001b[0m\n\u001b[1;32m      2\u001b[0m \u001b[0mregression_model\u001b[0m\u001b[0;34m.\u001b[0m\u001b[0mfit\u001b[0m\u001b[0;34m(\u001b[0m\u001b[0mx_train\u001b[0m\u001b[0;34m,\u001b[0m\u001b[0my_train\u001b[0m\u001b[0;34m)\u001b[0m\u001b[0;34m\u001b[0m\u001b[0;34m\u001b[0m\u001b[0m\n\u001b[0;32m----> 3\u001b[0;31m \u001b[0myG_predicted\u001b[0m \u001b[0;34m=\u001b[0m \u001b[0mregression_model\u001b[0m\u001b[0;34m.\u001b[0m\u001b[0mpredict\u001b[0m\u001b[0;34m(\u001b[0m\u001b[0mclass4_X_GAN\u001b[0m\u001b[0;34m)\u001b[0m\u001b[0;34m\u001b[0m\u001b[0;34m\u001b[0m\u001b[0m\n\u001b[0m\u001b[1;32m      4\u001b[0m \u001b[0myO_predicted\u001b[0m \u001b[0;34m=\u001b[0m \u001b[0mregression_model\u001b[0m\u001b[0;34m.\u001b[0m\u001b[0mpredict\u001b[0m\u001b[0;34m(\u001b[0m\u001b[0mclass4_X_O\u001b[0m\u001b[0;34m)\u001b[0m\u001b[0;34m\u001b[0m\u001b[0;34m\u001b[0m\u001b[0m\n\u001b[1;32m      5\u001b[0m \u001b[0myN_predicted\u001b[0m \u001b[0;34m=\u001b[0m \u001b[0mregression_model\u001b[0m\u001b[0;34m.\u001b[0m\u001b[0mpredict\u001b[0m\u001b[0;34m(\u001b[0m\u001b[0mclass4_X_N\u001b[0m\u001b[0;34m)\u001b[0m\u001b[0;34m\u001b[0m\u001b[0;34m\u001b[0m\u001b[0m\n",
            "\u001b[0;32m/usr/local/lib/python3.6/dist-packages/sklearn/linear_model/_base.py\u001b[0m in \u001b[0;36mpredict\u001b[0;34m(self, X)\u001b[0m\n\u001b[1;32m    223\u001b[0m             \u001b[0mReturns\u001b[0m \u001b[0mpredicted\u001b[0m \u001b[0mvalues\u001b[0m\u001b[0;34m.\u001b[0m\u001b[0;34m\u001b[0m\u001b[0;34m\u001b[0m\u001b[0m\n\u001b[1;32m    224\u001b[0m         \"\"\"\n\u001b[0;32m--> 225\u001b[0;31m         \u001b[0;32mreturn\u001b[0m \u001b[0mself\u001b[0m\u001b[0;34m.\u001b[0m\u001b[0m_decision_function\u001b[0m\u001b[0;34m(\u001b[0m\u001b[0mX\u001b[0m\u001b[0;34m)\u001b[0m\u001b[0;34m\u001b[0m\u001b[0;34m\u001b[0m\u001b[0m\n\u001b[0m\u001b[1;32m    226\u001b[0m \u001b[0;34m\u001b[0m\u001b[0m\n\u001b[1;32m    227\u001b[0m     \u001b[0m_preprocess_data\u001b[0m \u001b[0;34m=\u001b[0m \u001b[0mstaticmethod\u001b[0m\u001b[0;34m(\u001b[0m\u001b[0m_preprocess_data\u001b[0m\u001b[0;34m)\u001b[0m\u001b[0;34m\u001b[0m\u001b[0;34m\u001b[0m\u001b[0m\n",
            "\u001b[0;32m/usr/local/lib/python3.6/dist-packages/sklearn/linear_model/_base.py\u001b[0m in \u001b[0;36m_decision_function\u001b[0;34m(self, X)\u001b[0m\n\u001b[1;32m    207\u001b[0m         \u001b[0mX\u001b[0m \u001b[0;34m=\u001b[0m \u001b[0mcheck_array\u001b[0m\u001b[0;34m(\u001b[0m\u001b[0mX\u001b[0m\u001b[0;34m,\u001b[0m \u001b[0maccept_sparse\u001b[0m\u001b[0;34m=\u001b[0m\u001b[0;34m[\u001b[0m\u001b[0;34m'csr'\u001b[0m\u001b[0;34m,\u001b[0m \u001b[0;34m'csc'\u001b[0m\u001b[0;34m,\u001b[0m \u001b[0;34m'coo'\u001b[0m\u001b[0;34m]\u001b[0m\u001b[0;34m)\u001b[0m\u001b[0;34m\u001b[0m\u001b[0;34m\u001b[0m\u001b[0m\n\u001b[1;32m    208\u001b[0m         return safe_sparse_dot(X, self.coef_.T,\n\u001b[0;32m--> 209\u001b[0;31m                                dense_output=True) + self.intercept_\n\u001b[0m\u001b[1;32m    210\u001b[0m \u001b[0;34m\u001b[0m\u001b[0m\n\u001b[1;32m    211\u001b[0m     \u001b[0;32mdef\u001b[0m \u001b[0mpredict\u001b[0m\u001b[0;34m(\u001b[0m\u001b[0mself\u001b[0m\u001b[0;34m,\u001b[0m \u001b[0mX\u001b[0m\u001b[0;34m)\u001b[0m\u001b[0;34m:\u001b[0m\u001b[0;34m\u001b[0m\u001b[0;34m\u001b[0m\u001b[0m\n",
            "\u001b[0;32m/usr/local/lib/python3.6/dist-packages/sklearn/utils/extmath.py\u001b[0m in \u001b[0;36msafe_sparse_dot\u001b[0;34m(a, b, dense_output)\u001b[0m\n\u001b[1;32m    149\u001b[0m             \u001b[0mret\u001b[0m \u001b[0;34m=\u001b[0m \u001b[0mnp\u001b[0m\u001b[0;34m.\u001b[0m\u001b[0mdot\u001b[0m\u001b[0;34m(\u001b[0m\u001b[0ma\u001b[0m\u001b[0;34m,\u001b[0m \u001b[0mb\u001b[0m\u001b[0;34m)\u001b[0m\u001b[0;34m\u001b[0m\u001b[0;34m\u001b[0m\u001b[0m\n\u001b[1;32m    150\u001b[0m     \u001b[0;32melse\u001b[0m\u001b[0;34m:\u001b[0m\u001b[0;34m\u001b[0m\u001b[0;34m\u001b[0m\u001b[0m\n\u001b[0;32m--> 151\u001b[0;31m         \u001b[0mret\u001b[0m \u001b[0;34m=\u001b[0m \u001b[0ma\u001b[0m \u001b[0;34m@\u001b[0m \u001b[0mb\u001b[0m\u001b[0;34m\u001b[0m\u001b[0;34m\u001b[0m\u001b[0m\n\u001b[0m\u001b[1;32m    152\u001b[0m \u001b[0;34m\u001b[0m\u001b[0m\n\u001b[1;32m    153\u001b[0m     if (sparse.issparse(a) and sparse.issparse(b)\n",
            "\u001b[0;31mValueError\u001b[0m: matmul: Input operand 1 has a mismatch in its core dimension 0, with gufunc signature (n?,k),(k,m?)->(n?,m?) (size 10 is different from 20)"
          ]
        }
      ]
    },
    {
      "cell_type": "markdown",
      "metadata": {
        "id": "ZDBuZkFDB0Dc",
        "colab_type": "text"
      },
      "source": [
        ""
      ]
    }
  ]
}